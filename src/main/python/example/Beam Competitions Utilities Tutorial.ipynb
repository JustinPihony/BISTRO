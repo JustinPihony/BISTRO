{
 "cells": [
  {
   "cell_type": "markdown",
   "metadata": {},
   "source": [
    "# Beam Competitions Python Utilities: Tutorial"
   ]
  },
  {
   "cell_type": "markdown",
   "metadata": {},
   "source": [
    "To simplify interaction with the Gradle-based simulation execution and evaluation, we've provided a Python utility (located in the `src/main/python/run` folder of the BeamCompetitions repository). This notebook demonstrates how it may be used to accomplish the following tasks:\n",
    "\n",
    " - Starting a simulation\n",
    " - Retrieving the simulation score in a convenient Pandas `DataFrame` format. \n",
    "\n",
    "*Note*: It is assumed that this notebook is started from the `src/main/python/example` folder."
   ]
  },
  {
   "cell_type": "code",
   "execution_count": 1,
   "metadata": {},
   "outputs": [
    {
     "name": "stdout",
     "output_type": "stream",
     "text": [
      "Python interpreter runs from : /Users/vgolfi/Documents/GitHub/BeamCompetitions\n"
     ]
    }
   ],
   "source": [
    "import os\n",
    "from pathlib import Path\n",
    "# Note that the following is idempotent when this notebook is run from \"src/main/python/example\"\n",
    "os.chdir('../../../..')\n",
    "print(\"Python interpreter runs from : {0}\".format(os.getcwd()))"
   ]
  },
  {
   "cell_type": "code",
   "execution_count": 2,
   "metadata": {},
   "outputs": [],
   "source": [
    "# Adding the module to the path for future imports\n",
    "import sys\n",
    "sys.path.append(\"src/main/python/run/\")"
   ]
  },
  {
   "cell_type": "markdown",
   "metadata": {},
   "source": [
    "## The `gradle_executor` Module"
   ]
  },
  {
   "cell_type": "markdown",
   "metadata": {},
   "source": [
    "A `GradleExecutor` object may be used to run simulation, and gather information about completed simulation scores and stats."
   ]
  },
  {
   "cell_type": "code",
   "execution_count": 3,
   "metadata": {},
   "outputs": [],
   "source": [
    "from gradle_executor import GradleExecutor\n",
    "\n",
    "scenario_name = \"sioux_faux\"\n",
    "sample_size = \"1k\"\n",
    "num_iterations = 1\n",
    "\n",
    "my_executor = GradleExecutor(scenario_name, sample_size, num_iterations)"
   ]
  },
  {
   "cell_type": "markdown",
   "metadata": {},
   "source": [
    "Run the simulation using the `run_simulation` method. For example:"
   ]
  },
  {
   "cell_type": "code",
   "execution_count": 4,
   "metadata": {},
   "outputs": [],
   "source": [
    "# Extracting the timestamp of the simualtion, i.e. the time and date at wich the simulation is run. \n",
    "# The timestamp will later be used as a simulation identifier.\n",
    "timestamp = my_executor.run_simulation()"
   ]
  },
  {
   "cell_type": "markdown",
   "metadata": {},
   "source": [
    "You may view the **logs** of a specific simulation as follows:"
   ]
  },
  {
   "cell_type": "code",
   "execution_count": 5,
   "metadata": {
    "scrolled": false
   },
   "outputs": [],
   "source": [
    "logs = my_executor.output_simulation_logs()"
   ]
  },
  {
   "cell_type": "markdown",
   "metadata": {},
   "source": [
    "When a simulation run is done, you can import its **results**:"
   ]
  },
  {
   "cell_type": "code",
   "execution_count": 8,
   "metadata": {},
   "outputs": [],
   "source": [
    "scores, stats = my_executor.get_submission_scores_and_stats(timestamp)"
   ]
  },
  {
   "cell_type": "markdown",
   "metadata": {},
   "source": [
    "The **scores** and **statistics** are stored in pandas DataFrames which contains the information described [here](https://github.com/vgolfier/Uber-Prize-Starter-Kit/blob/master/docs/Understanding_the_outputs_and_the%20scoring_function.md)."
   ]
  },
  {
   "cell_type": "markdown",
   "metadata": {},
   "source": [
    "Note that if needed, you can extract the **path of the output folder** where the results of the simulation were stored. It may be useful to access the results via this path as running a new simulation with a same GradleExecutor object overwrites the timestamp."
   ]
  },
  {
   "cell_type": "code",
   "execution_count": 11,
   "metadata": {},
   "outputs": [
    {
     "name": "stdout",
     "output_type": "stream",
     "text": [
      "The stats and scores results were stored in the following output folder:/Users/vgolfi/Documents/GitHub/BeamCompetitions/output/sioux_faux/sioux_faux-1k__2018-12-12_08-31-10\n"
     ]
    }
   ],
   "source": [
    "output_directory = my_executor.format_out_dir(my_executor.output_root, timestamp)\n",
    "print(\"The stats and scores results were stored in the following output folder:{0}\".format(output_directory))"
   ]
  }
 ],
 "metadata": {
  "kernelspec": {
   "display_name": "Python 3",
   "language": "python",
   "name": "python3"
  },
  "language_info": {
   "codemirror_mode": {
    "name": "ipython",
    "version": 3
   },
   "file_extension": ".py",
   "mimetype": "text/x-python",
   "name": "python",
   "nbconvert_exporter": "python",
   "pygments_lexer": "ipython3",
   "version": "3.7.0"
  },
  "varInspector": {
   "cols": {
    "lenName": 16,
    "lenType": 16,
    "lenVar": 40
   },
   "kernels_config": {
    "python": {
     "delete_cmd_postfix": "",
     "delete_cmd_prefix": "del ",
     "library": "var_list.py",
     "varRefreshCmd": "print(var_dic_list())"
    },
    "r": {
     "delete_cmd_postfix": ") ",
     "delete_cmd_prefix": "rm(",
     "library": "var_list.r",
     "varRefreshCmd": "cat(var_dic_list()) "
    }
   },
   "types_to_exclude": [
    "module",
    "function",
    "builtin_function_or_method",
    "instance",
    "_Feature"
   ],
   "window_display": false
  }
 },
 "nbformat": 4,
 "nbformat_minor": 2
}
